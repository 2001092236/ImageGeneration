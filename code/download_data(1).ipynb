{
  "nbformat": 4,
  "nbformat_minor": 0,
  "metadata": {
    "kernelspec": {
      "display_name": "Python 3",
      "language": "python",
      "name": "python3"
    },
    "language_info": {
      "codemirror_mode": {
        "name": "ipython",
        "version": 3
      },
      "file_extension": ".py",
      "mimetype": "text/x-python",
      "name": "python",
      "nbconvert_exporter": "python",
      "pygments_lexer": "ipython3",
      "version": "3.8.5"
    },
    "colab": {
      "name": "download_data.ipynb",
      "provenance": [],
      "collapsed_sections": []
    },
    "accelerator": "GPU"
  },
  "cells": [
    {
      "cell_type": "code",
      "metadata": {
        "colab": {
          "base_uri": "https://localhost:8080/"
        },
        "id": "S_oG-JFlq1DA",
        "outputId": "c48525c8-7a38-4bd3-b9f7-c3d4f8188f16"
      },
      "source": [
        "from google.colab import drive\n",
        "drive.mount('/content/gdrive/')"
      ],
      "execution_count": 1,
      "outputs": [
        {
          "output_type": "stream",
          "text": [
            "Mounted at /content/gdrive/\n"
          ],
          "name": "stdout"
        }
      ]
    },
    {
      "cell_type": "code",
      "metadata": {
        "id": "Rj9TM_jUrCD6"
      },
      "source": [
        "!pip install -U --no-cache-dir gdown --pre"
      ],
      "execution_count": null,
      "outputs": []
    },
    {
      "cell_type": "code",
      "metadata": {
        "id": "9IA-VB6csAet"
      },
      "source": [
        "pip install wget"
      ],
      "execution_count": null,
      "outputs": []
    },
    {
      "cell_type": "code",
      "metadata": {
        "id": "UZWUsUKQsT49"
      },
      "source": [
        "import wget\n",
        "\n",
        "url = \"http://efrosgans.eecs.berkeley.edu/pix2pix/datasets/edges2shoes.tar.gz\" # maps # cityscapes\n",
        "\n",
        "wget.download(url, '/content/gdrive/MyDrive/ImageGenerationProject')"
      ],
      "execution_count": null,
      "outputs": []
    },
    {
      "cell_type": "code",
      "metadata": {
        "id": "oJBmQUpUvpJQ"
      },
      "source": [
        "# importing the \"tarfile\" module\n",
        "import tarfile\n",
        "  \n",
        "# open file\n",
        "file = tarfile.open('/content/gdrive/MyDrive/ImageGenerationProject/datasets/cityscapes.tar.gz')\n",
        "  \n",
        "# extracting file\n",
        "file.extractall('/content/gdrive/MyDrive/ImageGenerationProject/datasets')\n",
        "  \n",
        "file.close()"
      ],
      "execution_count": 4,
      "outputs": []
    },
    {
      "cell_type": "code",
      "metadata": {
        "id": "EWR--BiywEQH"
      },
      "source": [
        "  \n",
        "# open file\n",
        "file = tarfile.open('/content/gdrive/MyDrive/ImageGenerationProject/datasets/edges2shoes.tar.gz')\n",
        "  \n",
        "# extracting file\n",
        "file.extractall('/content/gdrive/MyDrive/ImageGenerationProject/datasets')\n",
        "  \n",
        "file.close()"
      ],
      "execution_count": 5,
      "outputs": []
    },
    {
      "cell_type": "code",
      "metadata": {
        "id": "LL59JHB0wwWz"
      },
      "source": [
        "# open file\n",
        "file = tarfile.open('/content/gdrive/MyDrive/ImageGenerationProject/datasets/maps.tar.gz')\n",
        "  \n",
        "# extracting file\n",
        "file.extractall('/content/gdrive/MyDrive/ImageGenerationProject/datasets')\n",
        "  \n",
        "file.close()"
      ],
      "execution_count": null,
      "outputs": []
    }
  ]
}